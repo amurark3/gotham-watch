{
 "cells": [
  {
   "cell_type": "code",
   "execution_count": 1,
   "metadata": {},
   "outputs": [
    {
     "name": "stdout",
     "output_type": "stream",
     "text": [
      "Data types before transformation:\n",
      "FIPS_CTY    int64\n",
      "FIPS_ST     int64\n",
      "dtype: object\n",
      "Transformed data saved to: transformed_crime_data206.csv\n"
     ]
    }
   ],
   "source": [
    "import pandas as pd\n",
    "\n",
    "def transform_crime_data(input_csv_path, output_csv_path):\n",
    "    # Load the data\n",
    "    crime_data = pd.read_csv(input_csv_path)\n",
    "\n",
    "    # Check the data types of the columns\n",
    "    print(\"Data types before transformation:\")\n",
    "    print(crime_data[['FIPS_CTY', 'FIPS_ST']].dtypes)\n",
    "\n",
    "    # Ensure that FIPS_CTY and FIPS_ST are strings and handle missing values correctly\n",
    "    crime_data['FIPS_ST'] = \"ST_\" + crime_data['FIPS_ST'].fillna(0).astype(int).astype(str)\n",
    "    crime_data['FIPS_CTY'] = crime_data['FIPS_ST'] + \"_CT_\" + crime_data['FIPS_CTY'].fillna(0).astype(int).astype(str)\n",
    "\n",
    "    # Create unique identifiers\n",
    "    crime_data['Unique_ID'] = crime_data['FIPS_CTY'] + \"_\" + crime_data['Year'].astype(str)\n",
    "\n",
    "    # Apply prefixes to each column\n",
    "    crime_data['MURDER'] = crime_data['Unique_ID'] + \"_MD_\" + crime_data['MURDER'].fillna(0).astype(int).astype(str)\n",
    "    crime_data['RAPE'] = crime_data['Unique_ID'] + \"_RP_\" + crime_data['RAPE'].fillna(0).astype(int).astype(str)\n",
    "    crime_data['ROBBERY'] = crime_data['Unique_ID'] + \"_RB_\" + crime_data['ROBBERY'].fillna(0).astype(int).astype(str)\n",
    "    crime_data['AGASSLT'] = crime_data['Unique_ID'] + \"_AG_\" + crime_data['AGASSLT'].fillna(0).astype(int).astype(str)\n",
    "    crime_data['FRAUD'] = crime_data['Unique_ID'] + \"_FR_\" + crime_data['FRAUD'].fillna(0).astype(int).astype(str)\n",
    "    crime_data['WEAPONS'] = crime_data['Unique_ID'] + \"_WP_\" + crime_data['WEAPONS'].fillna(0).astype(int).astype(str)\n",
    "    crime_data['DUI'] = crime_data['Unique_ID'] + \"_DUI_\" + crime_data['DUI'].fillna(0).astype(int).astype(str)\n",
    "\n",
    "    # Rearrange columns to match the desired format\n",
    "    transformed_data = crime_data[['Unique_ID', 'FIPS_ST', 'FIPS_CTY', 'MURDER', 'RAPE', 'ROBBERY', 'AGASSLT', 'FRAUD', 'WEAPONS', 'DUI']]\n",
    "    transformed_data.columns = ['Year', 'FIPS_ST', 'FIPS_CTY', 'MURDER', 'RAPE', 'ROBBERY', 'AGASSLT', 'FRAUD', 'WEAPONS', 'DUI']\n",
    "\n",
    "    # Save the transformed data to a new CSV file\n",
    "    transformed_data.to_csv(output_csv_path, index=False)\n",
    "    print(f\"Transformed data saved to: {output_csv_path}\")\n",
    "\n",
    "# Specify input and output file paths\n",
    "input_csv_path = 'combined_crime_data.csv'  # Replace with your input file path\n",
    "output_csv_path = 'transformed_crime_data206.csv'  # Replace with your desired output file path\n",
    "\n",
    "# Call the function\n",
    "transform_crime_data(input_csv_path, output_csv_path)\n",
    "\n"
   ]
  }
 ],
 "metadata": {
  "kernelspec": {
   "display_name": "Python 3",
   "language": "python",
   "name": "python3"
  },
  "language_info": {
   "codemirror_mode": {
    "name": "ipython",
    "version": 3
   },
   "file_extension": ".py",
   "mimetype": "text/x-python",
   "name": "python",
   "nbconvert_exporter": "python",
   "pygments_lexer": "ipython3",
   "version": "3.13.0"
  }
 },
 "nbformat": 4,
 "nbformat_minor": 2
}
