{
 "cells": [
  {
   "cell_type": "code",
   "execution_count": null,
   "metadata": {},
   "outputs": [
    {
     "name": "stdout",
     "output_type": "stream",
     "text": [
      "Transformed data saved to: us_zip_fips_county_cleaned_3.csv\n"
     ]
    }
   ],
   "source": [
    "import pandas as pd\n",
    "\n",
    "def transform_FIPS_data(input_csv_path, output_csv_path):\n",
    "    # Load the data with a different encoding\n",
    "    df = pd.read_csv(input_csv_path, encoding='ISO-8859-1')\n",
    "\n",
    "    # Convert 'State Code' and 'County Code' to string if they are not already\n",
    "    df[\"State Code\"] = df[\"State Code\"].astype(str)\n",
    "    df[\"County Code\"] = df[\"County Code\"].astype(str)\n",
    "\n",
    "    # Remove leading zeros from State Code and County Code\n",
    "    df[\"State Code\"] = df[\"State Code\"].str.lstrip('0')\n",
    "    df[\"County Code\"] = df[\"County Code\"].str.lstrip('0')\n",
    "\n",
    "    # Add 'ST_' prefix to State Code and 'CT_' prefix to County Code\n",
    "    df[\"State Code\"] = \"ST_\" + df[\"State Code\"]\n",
    "    df[\"County Code\"] = df[\"State Code\"] + \"_\" + \"CT_\" + df[\"County Code\"]\n",
    "\n",
    "    # Remove the unnecessary columns\n",
    "    df = df.drop(columns=[\"Zip Code\", \"State Abrv\", \"ANSI Code\", \"Centroid Lat\", \"Centroid Long\"])\n",
    "\n",
    "    # Remove duplicates based on 'State Name' and 'County Name'\n",
    "    df = df.drop_duplicates(subset=[\"State Name\", \"County Name\"])\n",
    "\n",
    "    # Rearrange columns to match the desired format\n",
    "    transformed_data = df[['State Name', 'State Code', 'County Name', 'County Code', 'FIPS Code']]\n",
    "    transformed_data.columns = ['State Name', 'State Code', 'County Name', 'County Code', 'FIPS Code']\n",
    "\n",
    "    # Save the transformed data to a new CSV file\n",
    "    transformed_data.to_csv(output_csv_path, index=False)\n",
    "    print(f\"Transformed data saved to: {output_csv_path}\")\n",
    "\n",
    "# Specify input and output file paths\n",
    "input_csv_path = 'us_zip_fips_county.csv'  # Replace with your input file path\n",
    "output_csv_path = 'us_zip_fips_county_cleaned_4.csv'  # Replace with your desired output file path\n",
    "\n",
    "# Call the function\n",
    "transform_FIPS_data(input_csv_path, output_csv_path)\n"
   ]
  }
 ],
 "metadata": {
  "kernelspec": {
   "display_name": "Python 3",
   "language": "python",
   "name": "python3"
  },
  "language_info": {
   "codemirror_mode": {
    "name": "ipython",
    "version": 3
   },
   "file_extension": ".py",
   "mimetype": "text/x-python",
   "name": "python",
   "nbconvert_exporter": "python",
   "pygments_lexer": "ipython3",
   "version": "3.13.0"
  }
 },
 "nbformat": 4,
 "nbformat_minor": 2
}
